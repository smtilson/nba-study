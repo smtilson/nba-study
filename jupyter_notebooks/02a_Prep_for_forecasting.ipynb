{
 "cells": [
  {
   "cell_type": "markdown",
   "metadata": {},
   "source": [
    "# Preparing Data for Forecasting\n",
    "\n",
    "The goal of this notebook is to create the necessary dataframes to do forecasting. This is my attempt at building something to analyze the statistics as time series. This is, perhaps a dumb approach. Here is the idea. I will create aux dataframes that contain the stats of each team. I will then build a dataframe where the contents is the average performance of the team over the last five games. I will make a couple passes at this. For a first pass, I may not include statistics about what they allowed their opponents to do. I am also not be concerned with whether or not they were the home team."
   ]
  },
  {
   "cell_type": "code",
   "execution_count": 1,
   "metadata": {},
   "outputs": [
    {
     "name": "stdout",
     "output_type": "stream",
     "text": [
      "/workspace/nba-study\n"
     ]
    }
   ],
   "source": [
    "import os\n",
    "\n",
    "home_dir = \"/workspace/nba-study\"\n",
    "csv_dir = \"datasets/clean/csv\"\n",
    "os.chdir(home_dir)\n",
    "current_dir = os.getcwd()\n",
    "print(current_dir)"
   ]
  },
  {
   "cell_type": "markdown",
   "metadata": {},
   "source": [
    "Now we load the relevant data."
   ]
  },
  {
   "cell_type": "code",
   "execution_count": 2,
   "metadata": {},
   "outputs": [],
   "source": [
    "from src.utils import get_df\n",
    "\n",
    "game_data = get_df(\"game_data_clean\",csv_dir)"
   ]
  },
  {
   "cell_type": "code",
   "execution_count": 10,
   "metadata": {},
   "outputs": [],
   "source": [
    "import pandas as pd\n",
    "import numpy as np"
   ]
  },
  {
   "cell_type": "markdown",
   "metadata": {},
   "source": [
    "We are going to collect all of the team ids and make a dataframe for each of them. We will, in general, need to sort these dataframes by date. This may involve making some custom method/function or it may involve creating a column of datetime objects.\n",
    "\n",
    "We checked that the set of ids is the same whether we use home or away teams."
   ]
  },
  {
   "cell_type": "code",
   "execution_count": 17,
   "metadata": {},
   "outputs": [],
   "source": [
    "team_ids = game_data['team_id_home'].unique()\n",
    "\n",
    "def get_home_games(data,team_id)-> pd.DataFrame:\n",
    "    return data.query(f\"team_id_home == {team_id}\")\n",
    "\n",
    "\n",
    "def get_away_games(data, team_id)-> pd.DataFrame:\n",
    "    return data.query(f\"team_id_away == {team_id}\")\n",
    "\n",
    "\n",
    "def get_all_games(data, team_id) -> pd.DataFrame:\n",
    "    return get_home_games(data,team_id).append(get_away_games(data,team_id))\n",
    "    \n"
   ]
  },
  {
   "cell_type": "code",
   "execution_count": 16,
   "metadata": {},
   "outputs": [
    {
     "data": {
      "text/html": [
       "<div>\n",
       "<style scoped>\n",
       "    .dataframe tbody tr th:only-of-type {\n",
       "        vertical-align: middle;\n",
       "    }\n",
       "\n",
       "    .dataframe tbody tr th {\n",
       "        vertical-align: top;\n",
       "    }\n",
       "\n",
       "    .dataframe thead th {\n",
       "        text-align: right;\n",
       "    }\n",
       "</style>\n",
       "<table border=\"1\" class=\"dataframe\">\n",
       "  <thead>\n",
       "    <tr style=\"text-align: right;\">\n",
       "      <th></th>\n",
       "      <th>season_id</th>\n",
       "      <th>team_id_home</th>\n",
       "      <th>team_name_home</th>\n",
       "      <th>wl_home</th>\n",
       "      <th>fgm_home</th>\n",
       "      <th>fga_home</th>\n",
       "      <th>fg3m_home</th>\n",
       "      <th>fg3a_home</th>\n",
       "      <th>ftm_home</th>\n",
       "      <th>fta_home</th>\n",
       "      <th>...</th>\n",
       "      <th>reb_away</th>\n",
       "      <th>ast_away</th>\n",
       "      <th>stl_away</th>\n",
       "      <th>blk_away</th>\n",
       "      <th>tov_away</th>\n",
       "      <th>pf_away</th>\n",
       "      <th>pts_away</th>\n",
       "      <th>day</th>\n",
       "      <th>month</th>\n",
       "      <th>year</th>\n",
       "    </tr>\n",
       "    <tr>\n",
       "      <th>game_id</th>\n",
       "      <th></th>\n",
       "      <th></th>\n",
       "      <th></th>\n",
       "      <th></th>\n",
       "      <th></th>\n",
       "      <th></th>\n",
       "      <th></th>\n",
       "      <th></th>\n",
       "      <th></th>\n",
       "      <th></th>\n",
       "      <th></th>\n",
       "      <th></th>\n",
       "      <th></th>\n",
       "      <th></th>\n",
       "      <th></th>\n",
       "      <th></th>\n",
       "      <th></th>\n",
       "      <th></th>\n",
       "      <th></th>\n",
       "      <th></th>\n",
       "      <th></th>\n",
       "    </tr>\n",
       "  </thead>\n",
       "  <tbody>\n",
       "    <tr>\n",
       "      <th>28500005</th>\n",
       "      <td>21985</td>\n",
       "      <td>1610612737</td>\n",
       "      <td>Atlanta Hawks</td>\n",
       "      <td>L</td>\n",
       "      <td>41.0</td>\n",
       "      <td>92.0</td>\n",
       "      <td>0.0</td>\n",
       "      <td>3.0</td>\n",
       "      <td>9.0</td>\n",
       "      <td>18.0</td>\n",
       "      <td>...</td>\n",
       "      <td>40.0</td>\n",
       "      <td>21.0</td>\n",
       "      <td>11.0</td>\n",
       "      <td>7.0</td>\n",
       "      <td>17.0</td>\n",
       "      <td>19.0</td>\n",
       "      <td>100.0</td>\n",
       "      <td>25</td>\n",
       "      <td>10</td>\n",
       "      <td>1985</td>\n",
       "    </tr>\n",
       "    <tr>\n",
       "      <th>28500030</th>\n",
       "      <td>21985</td>\n",
       "      <td>1610612737</td>\n",
       "      <td>Atlanta Hawks</td>\n",
       "      <td>W</td>\n",
       "      <td>37.0</td>\n",
       "      <td>86.0</td>\n",
       "      <td>1.0</td>\n",
       "      <td>3.0</td>\n",
       "      <td>27.0</td>\n",
       "      <td>38.0</td>\n",
       "      <td>...</td>\n",
       "      <td>44.0</td>\n",
       "      <td>15.0</td>\n",
       "      <td>8.0</td>\n",
       "      <td>3.0</td>\n",
       "      <td>12.0</td>\n",
       "      <td>26.0</td>\n",
       "      <td>87.0</td>\n",
       "      <td>29</td>\n",
       "      <td>10</td>\n",
       "      <td>1985</td>\n",
       "    </tr>\n",
       "    <tr>\n",
       "      <th>28500054</th>\n",
       "      <td>21985</td>\n",
       "      <td>1610612737</td>\n",
       "      <td>Atlanta Hawks</td>\n",
       "      <td>W</td>\n",
       "      <td>44.0</td>\n",
       "      <td>86.0</td>\n",
       "      <td>0.0</td>\n",
       "      <td>0.0</td>\n",
       "      <td>26.0</td>\n",
       "      <td>37.0</td>\n",
       "      <td>...</td>\n",
       "      <td>48.0</td>\n",
       "      <td>22.0</td>\n",
       "      <td>7.0</td>\n",
       "      <td>2.0</td>\n",
       "      <td>16.0</td>\n",
       "      <td>33.0</td>\n",
       "      <td>113.0</td>\n",
       "      <td>2</td>\n",
       "      <td>11</td>\n",
       "      <td>1985</td>\n",
       "    </tr>\n",
       "    <tr>\n",
       "      <th>28500103</th>\n",
       "      <td>21985</td>\n",
       "      <td>1610612737</td>\n",
       "      <td>Atlanta Hawks</td>\n",
       "      <td>W</td>\n",
       "      <td>43.0</td>\n",
       "      <td>79.0</td>\n",
       "      <td>1.0</td>\n",
       "      <td>1.0</td>\n",
       "      <td>21.0</td>\n",
       "      <td>32.0</td>\n",
       "      <td>...</td>\n",
       "      <td>46.0</td>\n",
       "      <td>17.0</td>\n",
       "      <td>6.0</td>\n",
       "      <td>4.0</td>\n",
       "      <td>24.0</td>\n",
       "      <td>26.0</td>\n",
       "      <td>101.0</td>\n",
       "      <td>13</td>\n",
       "      <td>11</td>\n",
       "      <td>1985</td>\n",
       "    </tr>\n",
       "    <tr>\n",
       "      <th>28500117</th>\n",
       "      <td>21985</td>\n",
       "      <td>1610612737</td>\n",
       "      <td>Atlanta Hawks</td>\n",
       "      <td>W</td>\n",
       "      <td>44.0</td>\n",
       "      <td>86.0</td>\n",
       "      <td>0.0</td>\n",
       "      <td>1.0</td>\n",
       "      <td>34.0</td>\n",
       "      <td>42.0</td>\n",
       "      <td>...</td>\n",
       "      <td>47.0</td>\n",
       "      <td>27.0</td>\n",
       "      <td>10.0</td>\n",
       "      <td>1.0</td>\n",
       "      <td>24.0</td>\n",
       "      <td>29.0</td>\n",
       "      <td>118.0</td>\n",
       "      <td>15</td>\n",
       "      <td>11</td>\n",
       "      <td>1985</td>\n",
       "    </tr>\n",
       "  </tbody>\n",
       "</table>\n",
       "<p>5 rows × 40 columns</p>\n",
       "</div>"
      ],
      "text/plain": [
       "          season_id  team_id_home team_name_home wl_home  fgm_home  fga_home  \\\n",
       "game_id                                                                        \n",
       "28500005      21985    1610612737  Atlanta Hawks       L      41.0      92.0   \n",
       "28500030      21985    1610612737  Atlanta Hawks       W      37.0      86.0   \n",
       "28500054      21985    1610612737  Atlanta Hawks       W      44.0      86.0   \n",
       "28500103      21985    1610612737  Atlanta Hawks       W      43.0      79.0   \n",
       "28500117      21985    1610612737  Atlanta Hawks       W      44.0      86.0   \n",
       "\n",
       "          fg3m_home  fg3a_home  ftm_home  fta_home  ...  reb_away  ast_away  \\\n",
       "game_id                                             ...                       \n",
       "28500005        0.0        3.0       9.0      18.0  ...      40.0      21.0   \n",
       "28500030        1.0        3.0      27.0      38.0  ...      44.0      15.0   \n",
       "28500054        0.0        0.0      26.0      37.0  ...      48.0      22.0   \n",
       "28500103        1.0        1.0      21.0      32.0  ...      46.0      17.0   \n",
       "28500117        0.0        1.0      34.0      42.0  ...      47.0      27.0   \n",
       "\n",
       "          stl_away  blk_away  tov_away  pf_away  pts_away  day  month  year  \n",
       "game_id                                                                      \n",
       "28500005      11.0       7.0      17.0     19.0     100.0   25     10  1985  \n",
       "28500030       8.0       3.0      12.0     26.0      87.0   29     10  1985  \n",
       "28500054       7.0       2.0      16.0     33.0     113.0    2     11  1985  \n",
       "28500103       6.0       4.0      24.0     26.0     101.0   13     11  1985  \n",
       "28500117      10.0       1.0      24.0     29.0     118.0   15     11  1985  \n",
       "\n",
       "[5 rows x 40 columns]"
      ]
     },
     "execution_count": 16,
     "metadata": {},
     "output_type": "execute_result"
    }
   ],
   "source": [
    "team_1 = team_ids[0]\n",
    "home_games_team_1 = get_home_games(game_data,team_1)\n",
    "home_games_team_1.head()"
   ]
  },
  {
   "cell_type": "code",
   "execution_count": 23,
   "metadata": {},
   "outputs": [
    {
     "name": "stdout",
     "output_type": "stream",
     "text": [
      "(1574, 40) (1577, 40) (3151, 40)\n"
     ]
    },
    {
     "name": "stderr",
     "output_type": "stream",
     "text": [
      "/tmp/ipykernel_3686/2048089440.py:12: FutureWarning: The frame.append method is deprecated and will be removed from pandas in a future version. Use pandas.concat instead.\n",
      "  return get_home_games(data,team_id).append(get_away_games(data,team_id))\n"
     ]
    },
    {
     "data": {
      "text/plain": [
       "0"
      ]
     },
     "execution_count": 23,
     "metadata": {},
     "output_type": "execute_result"
    }
   ],
   "source": [
    "all = get_all_games(game_data,team_1)\n",
    "home = get_home_games(game_data,team_1)\n",
    "away = get_away_games(game_data, team_1)\n",
    "print(home.shape,away.shape,all.shape)\n"
   ]
  },
  {
   "cell_type": "code",
   "execution_count": null,
   "metadata": {},
   "outputs": [],
   "source": [
    "def add_date(data:pd.DataFrame) -> pd.DataFrame:\n",
    "    cols = set([col.lower() for col in data.columns])\n",
    "    if not col.issubset(set('day', 'month', 'year')):\n",
    "        raise ValueError(\"The requisite data is not present\")\n",
    "    return"
   ]
  }
 ],
 "metadata": {
  "kernelspec": {
   "display_name": "Python 3",
   "language": "python",
   "name": "python3"
  },
  "language_info": {
   "codemirror_mode": {
    "name": "ipython",
    "version": 3
   },
   "file_extension": ".py",
   "mimetype": "text/x-python",
   "name": "python",
   "nbconvert_exporter": "python",
   "pygments_lexer": "ipython3",
   "version": "3.8.18"
  }
 },
 "nbformat": 4,
 "nbformat_minor": 2
}
